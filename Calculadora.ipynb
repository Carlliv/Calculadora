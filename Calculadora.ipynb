{
  "nbformat": 4,
  "nbformat_minor": 0,
  "metadata": {
    "colab": {
      "provenance": [],
      "authorship_tag": "ABX9TyNxRqLkpsaQWd2tve6UkYId"
    },
    "kernelspec": {
      "name": "python3",
      "display_name": "Python 3"
    },
    "language_info": {
      "name": "python"
    }
  },
  "cells": [
    {
      "cell_type": "code",
      "execution_count": 2,
      "metadata": {
        "id": "fnJqCYSsAnzp"
      },
      "outputs": [],
      "source": [
        "import pandas as pd\n",
        "import numpy as np"
      ]
    },
    {
      "cell_type": "code",
      "source": [
        "class calculadora:\n",
        "  def __init__(self, num1, num2):\n",
        "        self.num1 = float(num1)\n",
        "        self.num2 = float(num2)\n",
        "  def sumar(self):\n",
        "      suma=self.num1+self.num2\n",
        "      print('El resultado de la suma es :', suma)\n",
        "  def mult(self):\n",
        "      mult=self.num1*self.num2\n",
        "      print('El resultado de la multiplicación es :', mult)\n",
        "  def div(self):\n",
        "      div=self.num1/self.num2\n",
        "      print('El resultado de la división es :', div)\n",
        "class avanzada(calculadora):\n",
        "  def raiz(self):\n",
        "      raiz=self.num1**(1/self.num2)\n",
        "      print('El resultado de la raiz es :', raiz)\n",
        "  def pot(self):\n",
        "      pot=self.num1**self.num2\n",
        "      print('El resultado de la potencia es :', pot)\n",
        "\n",
        "\n"
      ],
      "metadata": {
        "id": "Skg6KRX0BVo8"
      },
      "execution_count": 11,
      "outputs": []
    },
    {
      "cell_type": "code",
      "source": [
        "num1=input('Ingrese el primer numero:')\n",
        "num2=input('Ingrese el segundo numero:')\n",
        "valores = calculadora(num1,num2)"
      ],
      "metadata": {
        "colab": {
          "base_uri": "https://localhost:8080/"
        },
        "id": "Ly_GYuKoCgHP",
        "outputId": "0290d5bb-beea-419b-95a3-169343c304d6"
      },
      "execution_count": 12,
      "outputs": [
        {
          "name": "stdout",
          "output_type": "stream",
          "text": [
            "Ingrese el primer numero:23\n",
            "Ingrese el segundo numero:-5\n"
          ]
        }
      ]
    },
    {
      "cell_type": "code",
      "source": [
        "calculadora.sumar(valores)"
      ],
      "metadata": {
        "colab": {
          "base_uri": "https://localhost:8080/"
        },
        "id": "fMvFpB4jk3HU",
        "outputId": "7e43f0a6-a1cb-486f-8a34-df80fe5c0785"
      },
      "execution_count": 15,
      "outputs": [
        {
          "output_type": "stream",
          "name": "stdout",
          "text": [
            "El resultado de la suma es : 18.0\n"
          ]
        }
      ]
    },
    {
      "cell_type": "code",
      "source": [
        "avanzada.pot(valores)"
      ],
      "metadata": {
        "colab": {
          "base_uri": "https://localhost:8080/"
        },
        "id": "JPJfEhQXkbKV",
        "outputId": "16985d15-22df-4123-e6ea-1ef15fee7360"
      },
      "execution_count": 16,
      "outputs": [
        {
          "output_type": "stream",
          "name": "stdout",
          "text": [
            "El resultado de la potencia es : 1.5536772978071555e-07\n"
          ]
        }
      ]
    }
  ]
}